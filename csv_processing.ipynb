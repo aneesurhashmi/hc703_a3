{
 "cells": [
  {
   "attachments": {},
   "cell_type": "markdown",
   "metadata": {},
   "source": [
    "# Assigment 3"
   ]
  },
  {
   "cell_type": "code",
   "execution_count": 1,
   "metadata": {},
   "outputs": [],
   "source": [
    "import pandas as pd\n",
    "import numpy as np\n",
    "import matplotlib.pyplot as plt\n",
    "import os\n",
    "import random\n"
   ]
  },
  {
   "cell_type": "code",
   "execution_count": 2,
   "metadata": {},
   "outputs": [],
   "source": [
    "DATA_DIR = '/apps/local/shared/HC701/assessment/assignment_3/data'"
   ]
  },
  {
   "cell_type": "code",
   "execution_count": 3,
   "metadata": {},
   "outputs": [
    {
     "data": {
      "text/plain": [
       "['hc701_lits_test.csv', 'hc701_lits_train.csv', 'lits-png']"
      ]
     },
     "execution_count": 3,
     "metadata": {},
     "output_type": "execute_result"
    }
   ],
   "source": [
    "os.listdir(DATA_DIR)"
   ]
  },
  {
   "cell_type": "code",
   "execution_count": 4,
   "metadata": {},
   "outputs": [],
   "source": [
    "train_df = pd.read_csv(os.path.join(DATA_DIR, 'hc701_lits_train.csv'))\n",
    "test_df = pd.read_csv(os.path.join(DATA_DIR, 'hc701_lits_test.csv'))"
   ]
  },
  {
   "cell_type": "code",
   "execution_count": 5,
   "metadata": {},
   "outputs": [],
   "source": [
    "# create absolute path\n",
    "train_df['filepath'] = train_df.apply(lambda x: os.path.join(DATA_DIR, x['filepath']), axis=1)\n",
    "train_df['liver_maskpath'] = train_df.apply(lambda x: os.path.join(DATA_DIR, x['liver_maskpath']), axis=1)\n",
    "train_df['tumor_maskpath'] = train_df.apply(lambda x: os.path.join(DATA_DIR, x['tumor_maskpath']), axis=1)\n",
    "\n",
    "test_df['filepath'] = test_df.apply(lambda x: os.path.join(DATA_DIR, x['filepath']), axis=1)\n",
    "test_df['liver_maskpath'] = test_df.apply(lambda x: os.path.join(DATA_DIR, x['liver_maskpath']), axis=1)\n",
    "test_df['tumor_maskpath'] = test_df.apply(lambda x: os.path.join(DATA_DIR, x['tumor_maskpath']), axis=1)"
   ]
  },
  {
   "cell_type": "code",
   "execution_count": 6,
   "metadata": {},
   "outputs": [
    {
     "data": {
      "text/html": [
       "<div>\n",
       "<style scoped>\n",
       "    .dataframe tbody tr th:only-of-type {\n",
       "        vertical-align: middle;\n",
       "    }\n",
       "\n",
       "    .dataframe tbody tr th {\n",
       "        vertical-align: top;\n",
       "    }\n",
       "\n",
       "    .dataframe thead th {\n",
       "        text-align: right;\n",
       "    }\n",
       "</style>\n",
       "<table border=\"1\" class=\"dataframe\">\n",
       "  <thead>\n",
       "    <tr style=\"text-align: right;\">\n",
       "      <th></th>\n",
       "      <th>filepath</th>\n",
       "      <th>liver_maskpath</th>\n",
       "      <th>tumor_maskpath</th>\n",
       "      <th>study_number</th>\n",
       "      <th>instance_number</th>\n",
       "      <th>liver_mask_empty</th>\n",
       "      <th>tumor_mask_empty</th>\n",
       "    </tr>\n",
       "  </thead>\n",
       "  <tbody>\n",
       "    <tr>\n",
       "      <th>0</th>\n",
       "      <td>/apps/local/shared/HC701/assessment/assignment...</td>\n",
       "      <td>/apps/local/shared/HC701/assessment/assignment...</td>\n",
       "      <td>/apps/local/shared/HC701/assessment/assignment...</td>\n",
       "      <td>2</td>\n",
       "      <td>0</td>\n",
       "      <td>False</td>\n",
       "      <td>False</td>\n",
       "    </tr>\n",
       "    <tr>\n",
       "      <th>1</th>\n",
       "      <td>/apps/local/shared/HC701/assessment/assignment...</td>\n",
       "      <td>/apps/local/shared/HC701/assessment/assignment...</td>\n",
       "      <td>/apps/local/shared/HC701/assessment/assignment...</td>\n",
       "      <td>2</td>\n",
       "      <td>0</td>\n",
       "      <td>False</td>\n",
       "      <td>False</td>\n",
       "    </tr>\n",
       "    <tr>\n",
       "      <th>2</th>\n",
       "      <td>/apps/local/shared/HC701/assessment/assignment...</td>\n",
       "      <td>/apps/local/shared/HC701/assessment/assignment...</td>\n",
       "      <td>/apps/local/shared/HC701/assessment/assignment...</td>\n",
       "      <td>2</td>\n",
       "      <td>0</td>\n",
       "      <td>False</td>\n",
       "      <td>False</td>\n",
       "    </tr>\n",
       "    <tr>\n",
       "      <th>3</th>\n",
       "      <td>/apps/local/shared/HC701/assessment/assignment...</td>\n",
       "      <td>/apps/local/shared/HC701/assessment/assignment...</td>\n",
       "      <td>/apps/local/shared/HC701/assessment/assignment...</td>\n",
       "      <td>2</td>\n",
       "      <td>1</td>\n",
       "      <td>False</td>\n",
       "      <td>False</td>\n",
       "    </tr>\n",
       "    <tr>\n",
       "      <th>4</th>\n",
       "      <td>/apps/local/shared/HC701/assessment/assignment...</td>\n",
       "      <td>/apps/local/shared/HC701/assessment/assignment...</td>\n",
       "      <td>/apps/local/shared/HC701/assessment/assignment...</td>\n",
       "      <td>2</td>\n",
       "      <td>1</td>\n",
       "      <td>False</td>\n",
       "      <td>False</td>\n",
       "    </tr>\n",
       "  </tbody>\n",
       "</table>\n",
       "</div>"
      ],
      "text/plain": [
       "                                            filepath  \\\n",
       "0  /apps/local/shared/HC701/assessment/assignment...   \n",
       "1  /apps/local/shared/HC701/assessment/assignment...   \n",
       "2  /apps/local/shared/HC701/assessment/assignment...   \n",
       "3  /apps/local/shared/HC701/assessment/assignment...   \n",
       "4  /apps/local/shared/HC701/assessment/assignment...   \n",
       "\n",
       "                                      liver_maskpath  \\\n",
       "0  /apps/local/shared/HC701/assessment/assignment...   \n",
       "1  /apps/local/shared/HC701/assessment/assignment...   \n",
       "2  /apps/local/shared/HC701/assessment/assignment...   \n",
       "3  /apps/local/shared/HC701/assessment/assignment...   \n",
       "4  /apps/local/shared/HC701/assessment/assignment...   \n",
       "\n",
       "                                      tumor_maskpath  study_number  \\\n",
       "0  /apps/local/shared/HC701/assessment/assignment...             2   \n",
       "1  /apps/local/shared/HC701/assessment/assignment...             2   \n",
       "2  /apps/local/shared/HC701/assessment/assignment...             2   \n",
       "3  /apps/local/shared/HC701/assessment/assignment...             2   \n",
       "4  /apps/local/shared/HC701/assessment/assignment...             2   \n",
       "\n",
       "   instance_number  liver_mask_empty  tumor_mask_empty  \n",
       "0                0             False             False  \n",
       "1                0             False             False  \n",
       "2                0             False             False  \n",
       "3                1             False             False  \n",
       "4                1             False             False  "
      ]
     },
     "execution_count": 6,
     "metadata": {},
     "output_type": "execute_result"
    }
   ],
   "source": [
    "train_df.head()"
   ]
  },
  {
   "cell_type": "code",
   "execution_count": 7,
   "metadata": {},
   "outputs": [
    {
     "data": {
      "text/html": [
       "<div>\n",
       "<style scoped>\n",
       "    .dataframe tbody tr th:only-of-type {\n",
       "        vertical-align: middle;\n",
       "    }\n",
       "\n",
       "    .dataframe tbody tr th {\n",
       "        vertical-align: top;\n",
       "    }\n",
       "\n",
       "    .dataframe thead th {\n",
       "        text-align: right;\n",
       "    }\n",
       "</style>\n",
       "<table border=\"1\" class=\"dataframe\">\n",
       "  <thead>\n",
       "    <tr style=\"text-align: right;\">\n",
       "      <th></th>\n",
       "      <th>filepath</th>\n",
       "      <th>liver_maskpath</th>\n",
       "      <th>tumor_maskpath</th>\n",
       "      <th>study_number</th>\n",
       "      <th>instance_number</th>\n",
       "      <th>liver_mask_empty</th>\n",
       "      <th>tumor_mask_empty</th>\n",
       "    </tr>\n",
       "  </thead>\n",
       "  <tbody>\n",
       "    <tr>\n",
       "      <th>0</th>\n",
       "      <td>/apps/local/shared/HC701/assessment/assignment...</td>\n",
       "      <td>/apps/local/shared/HC701/assessment/assignment...</td>\n",
       "      <td>/apps/local/shared/HC701/assessment/assignment...</td>\n",
       "      <td>116</td>\n",
       "      <td>0</td>\n",
       "      <td>False</td>\n",
       "      <td>False</td>\n",
       "    </tr>\n",
       "    <tr>\n",
       "      <th>1</th>\n",
       "      <td>/apps/local/shared/HC701/assessment/assignment...</td>\n",
       "      <td>/apps/local/shared/HC701/assessment/assignment...</td>\n",
       "      <td>/apps/local/shared/HC701/assessment/assignment...</td>\n",
       "      <td>116</td>\n",
       "      <td>0</td>\n",
       "      <td>False</td>\n",
       "      <td>False</td>\n",
       "    </tr>\n",
       "    <tr>\n",
       "      <th>2</th>\n",
       "      <td>/apps/local/shared/HC701/assessment/assignment...</td>\n",
       "      <td>/apps/local/shared/HC701/assessment/assignment...</td>\n",
       "      <td>/apps/local/shared/HC701/assessment/assignment...</td>\n",
       "      <td>116</td>\n",
       "      <td>0</td>\n",
       "      <td>True</td>\n",
       "      <td>True</td>\n",
       "    </tr>\n",
       "    <tr>\n",
       "      <th>3</th>\n",
       "      <td>/apps/local/shared/HC701/assessment/assignment...</td>\n",
       "      <td>/apps/local/shared/HC701/assessment/assignment...</td>\n",
       "      <td>/apps/local/shared/HC701/assessment/assignment...</td>\n",
       "      <td>116</td>\n",
       "      <td>0</td>\n",
       "      <td>False</td>\n",
       "      <td>False</td>\n",
       "    </tr>\n",
       "    <tr>\n",
       "      <th>4</th>\n",
       "      <td>/apps/local/shared/HC701/assessment/assignment...</td>\n",
       "      <td>/apps/local/shared/HC701/assessment/assignment...</td>\n",
       "      <td>/apps/local/shared/HC701/assessment/assignment...</td>\n",
       "      <td>116</td>\n",
       "      <td>1</td>\n",
       "      <td>False</td>\n",
       "      <td>False</td>\n",
       "    </tr>\n",
       "  </tbody>\n",
       "</table>\n",
       "</div>"
      ],
      "text/plain": [
       "                                            filepath  \\\n",
       "0  /apps/local/shared/HC701/assessment/assignment...   \n",
       "1  /apps/local/shared/HC701/assessment/assignment...   \n",
       "2  /apps/local/shared/HC701/assessment/assignment...   \n",
       "3  /apps/local/shared/HC701/assessment/assignment...   \n",
       "4  /apps/local/shared/HC701/assessment/assignment...   \n",
       "\n",
       "                                      liver_maskpath  \\\n",
       "0  /apps/local/shared/HC701/assessment/assignment...   \n",
       "1  /apps/local/shared/HC701/assessment/assignment...   \n",
       "2  /apps/local/shared/HC701/assessment/assignment...   \n",
       "3  /apps/local/shared/HC701/assessment/assignment...   \n",
       "4  /apps/local/shared/HC701/assessment/assignment...   \n",
       "\n",
       "                                      tumor_maskpath  study_number  \\\n",
       "0  /apps/local/shared/HC701/assessment/assignment...           116   \n",
       "1  /apps/local/shared/HC701/assessment/assignment...           116   \n",
       "2  /apps/local/shared/HC701/assessment/assignment...           116   \n",
       "3  /apps/local/shared/HC701/assessment/assignment...           116   \n",
       "4  /apps/local/shared/HC701/assessment/assignment...           116   \n",
       "\n",
       "   instance_number  liver_mask_empty  tumor_mask_empty  \n",
       "0                0             False             False  \n",
       "1                0             False             False  \n",
       "2                0              True              True  \n",
       "3                0             False             False  \n",
       "4                1             False             False  "
      ]
     },
     "execution_count": 7,
     "metadata": {},
     "output_type": "execute_result"
    }
   ],
   "source": [
    "test_df.head()"
   ]
  },
  {
   "attachments": {},
   "cell_type": "markdown",
   "metadata": {},
   "source": [
    "## Random visualization and checking"
   ]
  },
  {
   "cell_type": "code",
   "execution_count": 8,
   "metadata": {},
   "outputs": [
    {
     "data": {
      "image/png": "[encoded data removed]",
      "text/plain": [
       "<Figure size 720x360 with 1 Axes>"
      ]
     },
     "metadata": {
      "needs_background": "light"
     },
     "output_type": "display_data"
    }
   ],
   "source": [
    "# checking the ratio of masks to no masks images\n",
    "# *_empty columns are False for empty masks only and True for non-empty masks \n",
    "liver_masks_present_df = train_df[train_df['liver_mask_empty'] == True]\n",
    "liver_masks_not_present_df = train_df[train_df['liver_mask_empty'] == False]\n",
    "tumor_masks_present_df = train_df[train_df['tumor_mask_empty'] == True] # both masks present\n",
    "tumor_masks_not_present_df = train_df[train_df['tumor_mask_empty'] == False] # liver masks present but tumor masks not present\n",
    "\n",
    "plt.figure(figsize=(10, 5))\n",
    "\n",
    "plt.bar(['liver masks present', 'liver masks not present', 'tumor masks present', 'tumor masks not present'], [len(liver_masks_present_df), len(liver_masks_not_present_df), len(tumor_masks_present_df), len(tumor_masks_not_present_df)])\n",
    "plt.show()\n"
   ]
  },
  {
   "cell_type": "code",
   "execution_count": 9,
   "metadata": {},
   "outputs": [
    {
     "data": {
      "text/plain": [
       "2.9353823814133593"
      ]
     },
     "execution_count": 9,
     "metadata": {},
     "output_type": "execute_result"
    }
   ],
   "source": [
    "(1/(len(tumor_masks_present_df)/len(train_df))) / (1/(len(liver_masks_present_df)/len(train_df)))"
   ]
  },
  {
   "cell_type": "code",
   "execution_count": 10,
   "metadata": {},
   "outputs": [],
   "source": [
    "pick = random.randint(0, len(train_df))\n",
    "sample = train_df.iloc[pick]\n",
    "\n",
    "i = plt.imread(sample['filepath'])\n",
    "m1 = plt.imread(sample['liver_maskpath'])\n",
    "m2 = plt.imread(sample['tumor_maskpath'])\n",
    "\n"
   ]
  },
  {
   "cell_type": "code",
   "execution_count": 11,
   "metadata": {},
   "outputs": [
    {
     "data": {
      "text/plain": [
       "(0.0, 0.0, 0.0, 0.0, 0.0, 1.0)"
      ]
     },
     "execution_count": 11,
     "metadata": {},
     "output_type": "execute_result"
    }
   ],
   "source": [
    "m1.min(), m1.max()*255, m2.min(), m2.max(), i.min(), i.max()"
   ]
  },
  {
   "cell_type": "code",
   "execution_count": 12,
   "metadata": {},
   "outputs": [
    {
     "name": "stdout",
     "output_type": "stream",
     "text": [
      "filepath            /apps/local/shared/HC701/assessment/assignment...\n",
      "liver_maskpath      /apps/local/shared/HC701/assessment/assignment...\n",
      "tumor_maskpath      /apps/local/shared/HC701/assessment/assignment...\n",
      "study_number                                                       65\n",
      "instance_number                                                    19\n",
      "liver_mask_empty                                                False\n",
      "tumor_mask_empty                                                False\n",
      "Name: 15697, dtype: object\n"
     ]
    },
    {
     "data": {
      "image/png": "[encoded data removed]",
      "text/plain": [
       "<Figure size 720x1440 with 3 Axes>"
      ]
     },
     "metadata": {
      "needs_background": "light"
     },
     "output_type": "display_data"
    }
   ],
   "source": [
    "pick = random.randint(0, len(train_df))\n",
    "sample = train_df.iloc[pick]\n",
    "print(sample)\n",
    "plt.figure(figsize=(10, 20))\n",
    "plt.subplot(1, 3, 1)\n",
    "plt.imshow(plt.imread(sample['filepath']))\n",
    "plt.title('Image')\n",
    "plt.subplot(1, 3, 2)\n",
    "plt.imshow(plt.imread(sample['liver_maskpath'])*255)\n",
    "plt.title('Liver Mask')\n",
    "plt.subplot(1, 3, 3)\n",
    "plt.imshow(plt.imread(sample['tumor_maskpath'])*255)\n",
    "plt.title('Tumor Mask')\n",
    "plt.show()"
   ]
  },
  {
   "cell_type": "code",
   "execution_count": 13,
   "metadata": {},
   "outputs": [
    {
     "data": {
      "text/plain": [
       "((256, 256, 3), 0.0, 1.0)"
      ]
     },
     "execution_count": 13,
     "metadata": {},
     "output_type": "execute_result"
    }
   ],
   "source": [
    "img = plt.imread(sample['filepath'])\n",
    "img.shape, img.min(), img.max()"
   ]
  },
  {
   "attachments": {},
   "cell_type": "markdown",
   "metadata": {},
   "source": [
    "## Sample Validation data (based on study number i.e. patients)"
   ]
  },
  {
   "cell_type": "code",
   "execution_count": 14,
   "metadata": {},
   "outputs": [
    {
     "name": "stdout",
     "output_type": "stream",
     "text": [
      "total number of training images: 37975\n",
      "total number of studies / patients: 84\n",
      "total number of instances: 256\n"
     ]
    }
   ],
   "source": [
    "print(f'total number of training images: {len(train_df)}')\n",
    "print(f'total number of studies / patients: {len(train_df[\"study_number\"].unique())}')\n",
    "print(f'total number of instances: {len(train_df[\"instance_number\"].unique())}')"
   ]
  },
  {
   "cell_type": "code",
   "execution_count": 15,
   "metadata": {},
   "outputs": [
    {
     "name": "stdout",
     "output_type": "stream",
     "text": [
      "total number of training images: 3586\n",
      "total number of studies / patients: 7\n",
      "total number of instances: 256\n"
     ]
    }
   ],
   "source": [
    "print(f'total number of training images: {len(test_df)}')\n",
    "print(f'total number of studies / patients: {len(test_df[\"study_number\"].unique())}')\n",
    "print(f'total number of instances: {len(test_df[\"instance_number\"].unique())}')"
   ]
  },
  {
   "cell_type": "code",
   "execution_count": 18,
   "metadata": {},
   "outputs": [],
   "source": [
    "# let's sample images with liver masks present\n",
    "\n",
    "train_df_liver_masks_present = train_df[train_df['liver_mask_empty'] == True]"
   ]
  },
  {
   "cell_type": "code",
   "execution_count": 24,
   "metadata": {},
   "outputs": [
    {
     "name": "stdout",
     "output_type": "stream",
     "text": [
      "filepath            /apps/local/shared/HC701/assessment/assignment...\n",
      "liver_maskpath      /apps/local/shared/HC701/assessment/assignment...\n",
      "tumor_maskpath      /apps/local/shared/HC701/assessment/assignment...\n",
      "study_number                                                      114\n",
      "instance_number                                                   160\n",
      "liver_mask_empty                                                 True\n",
      "tumor_mask_empty                                                False\n",
      "Name: 33804, dtype: object\n"
     ]
    },
    {
     "data": {
      "image/png": "[encoded data removed]",
      "text/plain": [
       "<Figure size 720x1440 with 3 Axes>"
      ]
     },
     "metadata": {
      "needs_background": "light"
     },
     "output_type": "display_data"
    }
   ],
   "source": [
    "pick = random.randint(0, len(train_df_liver_masks_present))\n",
    "sample = train_df_liver_masks_present.iloc[pick]\n",
    "print(sample)\n",
    "plt.figure(figsize=(10, 20))\n",
    "plt.subplot(1, 3, 1)\n",
    "plt.imshow(plt.imread(sample['filepath']))\n",
    "plt.title('Image')\n",
    "plt.subplot(1, 3, 2)\n",
    "plt.imshow(plt.imread(sample['liver_maskpath'])*255)\n",
    "plt.title('Liver Mask')\n",
    "plt.subplot(1, 3, 3)\n",
    "plt.imshow(plt.imread(sample['tumor_maskpath'])*255)\n",
    "plt.title('Tumor Mask')\n",
    "plt.show()"
   ]
  },
  {
   "cell_type": "code",
   "execution_count": 25,
   "metadata": {},
   "outputs": [
    {
     "data": {
      "text/plain": [
       "12129"
      ]
     },
     "execution_count": 25,
     "metadata": {},
     "output_type": "execute_result"
    }
   ],
   "source": [
    "len(train_df_liver_masks_present)"
   ]
  },
  {
   "cell_type": "code",
   "execution_count": 26,
   "metadata": {},
   "outputs": [
    {
     "data": {
      "text/plain": [
       "16"
      ]
     },
     "execution_count": 26,
     "metadata": {},
     "output_type": "execute_result"
    }
   ],
   "source": [
    "val_set_ratio = 0.2\n",
    "val_set_size = int(len(train_df['study_number'].unique()) * val_set_ratio)\n",
    "val_set_size"
   ]
  },
  {
   "cell_type": "code",
   "execution_count": 27,
   "metadata": {},
   "outputs": [
    {
     "data": {
      "text/plain": [
       "[92, 20, 5, 59, 53, 49, 23, 18, 111, 15, 86, 6, 125, 41, 47, 50]"
      ]
     },
     "execution_count": 27,
     "metadata": {},
     "output_type": "execute_result"
    }
   ],
   "source": [
    "random.seed(42)\n",
    "val_imgs = random.sample(list(train_df['study_number'].unique()), val_set_size)\n",
    "val_imgs"
   ]
  },
  {
   "cell_type": "code",
   "execution_count": 28,
   "metadata": {},
   "outputs": [],
   "source": [
    "val_df = train_df[train_df['study_number'].isin(val_imgs)]\n",
    "new_train_df = train_df[~train_df['study_number'].isin(val_imgs)]"
   ]
  },
  {
   "attachments": {},
   "cell_type": "markdown",
   "metadata": {},
   "source": [
    "### sanity check for overlap"
   ]
  },
  {
   "cell_type": "code",
   "execution_count": 29,
   "metadata": {},
   "outputs": [],
   "source": [
    "# print()\n",
    "\n",
    "for i in new_train_df['filepath']:\n",
    "    if  i in val_df['filepath']:\n",
    "        print(i)\n",
    "\n",
    "\n",
    "for i in val_df['filepath']:\n",
    "    if  i in new_train_df['filepath']:\n",
    "        print(i)\n",
    "\n"
   ]
  },
  {
   "cell_type": "code",
   "execution_count": 30,
   "metadata": {},
   "outputs": [
    {
     "data": {
      "text/html": [
       "<div>\n",
       "<style scoped>\n",
       "    .dataframe tbody tr th:only-of-type {\n",
       "        vertical-align: middle;\n",
       "    }\n",
       "\n",
       "    .dataframe tbody tr th {\n",
       "        vertical-align: top;\n",
       "    }\n",
       "\n",
       "    .dataframe thead th {\n",
       "        text-align: right;\n",
       "    }\n",
       "</style>\n",
       "<table border=\"1\" class=\"dataframe\">\n",
       "  <thead>\n",
       "    <tr style=\"text-align: right;\">\n",
       "      <th></th>\n",
       "      <th>filepath</th>\n",
       "      <th>liver_maskpath</th>\n",
       "      <th>tumor_maskpath</th>\n",
       "      <th>study_number</th>\n",
       "      <th>instance_number</th>\n",
       "      <th>liver_mask_empty</th>\n",
       "      <th>tumor_mask_empty</th>\n",
       "    </tr>\n",
       "  </thead>\n",
       "  <tbody>\n",
       "    <tr>\n",
       "      <th>1892</th>\n",
       "      <td>/apps/local/shared/HC701/assessment/assignment...</td>\n",
       "      <td>/apps/local/shared/HC701/assessment/assignment...</td>\n",
       "      <td>/apps/local/shared/HC701/assessment/assignment...</td>\n",
       "      <td>5</td>\n",
       "      <td>0</td>\n",
       "      <td>False</td>\n",
       "      <td>False</td>\n",
       "    </tr>\n",
       "    <tr>\n",
       "      <th>1893</th>\n",
       "      <td>/apps/local/shared/HC701/assessment/assignment...</td>\n",
       "      <td>/apps/local/shared/HC701/assessment/assignment...</td>\n",
       "      <td>/apps/local/shared/HC701/assessment/assignment...</td>\n",
       "      <td>5</td>\n",
       "      <td>0</td>\n",
       "      <td>False</td>\n",
       "      <td>False</td>\n",
       "    </tr>\n",
       "    <tr>\n",
       "      <th>1894</th>\n",
       "      <td>/apps/local/shared/HC701/assessment/assignment...</td>\n",
       "      <td>/apps/local/shared/HC701/assessment/assignment...</td>\n",
       "      <td>/apps/local/shared/HC701/assessment/assignment...</td>\n",
       "      <td>5</td>\n",
       "      <td>0</td>\n",
       "      <td>False</td>\n",
       "      <td>False</td>\n",
       "    </tr>\n",
       "    <tr>\n",
       "      <th>1895</th>\n",
       "      <td>/apps/local/shared/HC701/assessment/assignment...</td>\n",
       "      <td>/apps/local/shared/HC701/assessment/assignment...</td>\n",
       "      <td>/apps/local/shared/HC701/assessment/assignment...</td>\n",
       "      <td>5</td>\n",
       "      <td>1</td>\n",
       "      <td>False</td>\n",
       "      <td>False</td>\n",
       "    </tr>\n",
       "    <tr>\n",
       "      <th>1896</th>\n",
       "      <td>/apps/local/shared/HC701/assessment/assignment...</td>\n",
       "      <td>/apps/local/shared/HC701/assessment/assignment...</td>\n",
       "      <td>/apps/local/shared/HC701/assessment/assignment...</td>\n",
       "      <td>5</td>\n",
       "      <td>1</td>\n",
       "      <td>False</td>\n",
       "      <td>False</td>\n",
       "    </tr>\n",
       "  </tbody>\n",
       "</table>\n",
       "</div>"
      ],
      "text/plain": [
       "                                               filepath  \\\n",
       "1892  /apps/local/shared/HC701/assessment/assignment...   \n",
       "1893  /apps/local/shared/HC701/assessment/assignment...   \n",
       "1894  /apps/local/shared/HC701/assessment/assignment...   \n",
       "1895  /apps/local/shared/HC701/assessment/assignment...   \n",
       "1896  /apps/local/shared/HC701/assessment/assignment...   \n",
       "\n",
       "                                         liver_maskpath  \\\n",
       "1892  /apps/local/shared/HC701/assessment/assignment...   \n",
       "1893  /apps/local/shared/HC701/assessment/assignment...   \n",
       "1894  /apps/local/shared/HC701/assessment/assignment...   \n",
       "1895  /apps/local/shared/HC701/assessment/assignment...   \n",
       "1896  /apps/local/shared/HC701/assessment/assignment...   \n",
       "\n",
       "                                         tumor_maskpath  study_number  \\\n",
       "1892  /apps/local/shared/HC701/assessment/assignment...             5   \n",
       "1893  /apps/local/shared/HC701/assessment/assignment...             5   \n",
       "1894  /apps/local/shared/HC701/assessment/assignment...             5   \n",
       "1895  /apps/local/shared/HC701/assessment/assignment...             5   \n",
       "1896  /apps/local/shared/HC701/assessment/assignment...             5   \n",
       "\n",
       "      instance_number  liver_mask_empty  tumor_mask_empty  \n",
       "1892                0             False             False  \n",
       "1893                0             False             False  \n",
       "1894                0             False             False  \n",
       "1895                1             False             False  \n",
       "1896                1             False             False  "
      ]
     },
     "execution_count": 30,
     "metadata": {},
     "output_type": "execute_result"
    }
   ],
   "source": [
    "val_df.head()"
   ]
  },
  {
   "cell_type": "code",
   "execution_count": 31,
   "metadata": {},
   "outputs": [],
   "source": [
    "os.makedirs('./csv_liver_present', exist_ok=True)\n",
    "\n",
    "new_train_df.to_csv('./csv_liver_present/train.csv', index=False)\n",
    "val_df.to_csv('./csv_liver_present/val.csv', index=False)\n",
    "test_df.to_csv('./csv_liver_present/test.csv', index=False)"
   ]
  }
 ],
 "metadata": {
  "kernelspec": {
   "display_name": "main",
   "language": "python",
   "name": "python3"
  },
  "language_info": {
   "codemirror_mode": {
    "name": "ipython",
    "version": 3
   },
   "file_extension": ".py",
   "mimetype": "text/x-python",
   "name": "python",
   "nbconvert_exporter": "python",
   "pygments_lexer": "ipython3",
   "version": "3.10.8"
  },
  "orig_nbformat": 4
 },
 "nbformat": 4,
 "nbformat_minor": 2
}
