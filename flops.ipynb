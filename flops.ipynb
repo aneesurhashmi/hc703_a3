{
 "cells": [
  {
   "cell_type": "code",
   "execution_count": 8,
   "metadata": {},
   "outputs": [],
   "source": [
    "from flopth import flopth\n",
    "import torch\n",
    "import pandas as pd\n",
    "import torchvision\n",
    "import os\n",
    "import torch.nn as nn\n",
    "import segmentation_models_pytorch as smp\n",
    "\n"
   ]
  },
  {
   "cell_type": "code",
   "execution_count": 15,
   "metadata": {},
   "outputs": [],
   "source": [
    "def get_flops(model):\n",
    "    dummy_inputs = torch.rand(1, 1, 256, 256)\n",
    "    flops, params = flopth(model, inputs=(dummy_inputs,))\n",
    "    return flops, params"
   ]
  },
  {
   "cell_type": "code",
   "execution_count": 16,
   "metadata": {},
   "outputs": [],
   "source": [
    "csv_dir = \"/home/anees.hashmi/Desktop/labs/hc701_assignment_3/csv_liver_only\"\n",
    "model_dir = \"/home/anees.hashmi/Desktop/labs/hc701_assignment_3/models\"\n",
    "device = \"cuda\"\n",
    "num_workers = 24\n",
    "batch_size = 1\n",
    "num_classes = 2\n",
    "model_path =\"/home/anees.hashmi/Desktop/labs/hc701_assignment_3/models/\"\n",
    "result_dir =\"./results/\"\n",
    "backbone = \"mobilenet_v2\"\n",
    "model_name = \"unet_dice_loss_mobilenet_v2_1.0_1.0\"\n",
    "\n",
    "\n",
    "all_model_names = ['unet_dice_loss_mobilenet_v2_1.0_1.0', 'unet_dice_loss_mobilenet_v2_1.0_5.0', \n",
    "                   'unet_BCE_loss_mobilenet_v2_1.0_5.0', 'unet_dice_loss_resnet101_1.0_5.0']\n",
    "backbones= {'mobilenet':\"mobilenet_v2\", \"resnet101\":\"resnet101\"}\n",
    "\n",
    "checkpoint = None\n",
    "\n",
    "if not checkpoint:\n",
    "    all_chckpoints = [i[:-4] for i in sorted(os.listdir(f\"{model_path}{model_name}\"))]\n",
    "    checkpoint = f\"\"\"{[\"_\".join(i) for i in sorted([i.split('_') for i in all_chckpoints], key=lambda x: int(x[-4]))][-1]}.pth\"\"\"\n"
   ]
  },
  {
   "cell_type": "code",
   "execution_count": 17,
   "metadata": {},
   "outputs": [],
   "source": [
    "def load_model(backbone, device, model_dir, model_name, checkpoint, num_classes):\n",
    "    model = smp.Unet(\n",
    "        encoder_name=backbone,        # choose encoder, e.g. mobilenet_v2 or efficientnet-b7\n",
    "        # encoder_weights=\"imagenet\",     # use `imagenet` pre-trained weights for encoder initialization\n",
    "        in_channels=1,                  # model input channels (1 for gray-scale images, 3 for RGB, etc.)\n",
    "        classes=num_classes,                      # model output channels (number of classes in your dataset)\n",
    "    )\n",
    "    model = model.to(device)\n",
    "    model.load_state_dict(torch.load(os.path.join(model_dir, model_name, checkpoint)))\n",
    "    return model\n",
    "\n",
    "sig = nn.Sigmoid()\n",
    "\n",
    "model = load_model(backbone, device, model_dir, model_name, checkpoint, num_classes)"
   ]
  },
  {
   "cell_type": "code",
   "execution_count": 18,
   "metadata": {},
   "outputs": [
    {
     "name": "stdout",
     "output_type": "stream",
     "text": [
      "unet_dice_loss_mobilenet_v2_1.0_1.0 : 3.38276G flops, 6.62851M params\n",
      "unet_dice_loss_mobilenet_v2_1.0_5.0 : 3.38276G flops, 6.62851M params\n",
      "unet_BCE_loss_mobilenet_v2_1.0_5.0 : 3.38276G flops, 6.62851M params\n",
      "unet_dice_loss_resnet101_1.0_5.0 : 15.4563G flops, 51.5071M params\n"
     ]
    }
   ],
   "source": [
    "for model_name in all_model_names:\n",
    "    backbone = backbones[model_name.split(\"_\")[3]]\n",
    "    all_chckpoints = [i[:-4] for i in sorted(os.listdir(f\"{model_path}{model_name}\"))]\n",
    "    checkpoint = f\"\"\"{[\"_\".join(i) for i in sorted([i.split('_') for i in all_chckpoints], key=lambda x: int(x[-4]))][-1]}.pth\"\"\"\n",
    "    model = load_model(backbone=backbone, device=device, model_dir= model_dir, model_name=model_name, checkpoint = checkpoint, num_classes=num_classes)\n",
    "    flops, params = get_flops(model)\n",
    "    print(f\"{model_name} : {flops} flops, {params} params\")\n"
   ]
  }
 ],
 "metadata": {
  "kernelspec": {
   "display_name": "main",
   "language": "python",
   "name": "python3"
  },
  "language_info": {
   "codemirror_mode": {
    "name": "ipython",
    "version": 3
   },
   "file_extension": ".py",
   "mimetype": "text/x-python",
   "name": "python",
   "nbconvert_exporter": "python",
   "pygments_lexer": "ipython3",
   "version": "3.10.8"
  },
  "orig_nbformat": 4
 },
 "nbformat": 4,
 "nbformat_minor": 2
}
