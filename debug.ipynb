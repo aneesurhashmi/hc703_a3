{
 "cells": [
  {
   "cell_type": "code",
   "execution_count": 1,
   "metadata": {},
   "outputs": [],
   "source": [
    "import torch\n",
    "import torch.nn as nn\n",
    "import monai\n",
    "import matplotlib.pyplot as plt"
   ]
  },
  {
   "cell_type": "code",
   "execution_count": 6,
   "metadata": {},
   "outputs": [],
   "source": [
    "x = torch.randn(10, 3)\n",
    "y = torch.FloatTensor(10, 3).random_(2)"
   ]
  },
  {
   "cell_type": "code",
   "execution_count": 7,
   "metadata": {},
   "outputs": [],
   "source": [
    "# double the loss for class 1\n",
    "class_weight = torch.FloatTensor([1.0, 2.0, 1.0])\n",
    "# double the loss for last sample\n",
    "element_weight = torch.FloatTensor([1.0]*9 + [2.0]).view(-1, 1)\n",
    "element_weight = element_weight.repeat(1, 3)\n"
   ]
  },
  {
   "cell_type": "code",
   "execution_count": 9,
   "metadata": {},
   "outputs": [
    {
     "data": {
      "text/plain": [
       "(tensor([1., 2., 1.]),\n",
       " tensor([[1., 1., 1.],\n",
       "         [1., 1., 1.],\n",
       "         [1., 1., 1.],\n",
       "         [1., 1., 1.],\n",
       "         [1., 1., 1.],\n",
       "         [1., 1., 1.],\n",
       "         [1., 1., 1.],\n",
       "         [1., 1., 1.],\n",
       "         [1., 1., 1.],\n",
       "         [2., 2., 2.]]))"
      ]
     },
     "execution_count": 9,
     "metadata": {},
     "output_type": "execute_result"
    }
   ],
   "source": [
    "class_weight, element_weight"
   ]
  },
  {
   "cell_type": "code",
   "execution_count": 4,
   "metadata": {},
   "outputs": [
    {
     "name": "stderr",
     "output_type": "stream",
     "text": [
      "/home/anees.hashmi/.conda/envs/main/lib/python3.10/site-packages/torch/nn/_reduction.py:42: UserWarning: size_average and reduce args will be deprecated, please use reduction='none' instead.\n",
      "  warnings.warn(warning.format(ret))\n"
     ]
    }
   ],
   "source": [
    "bce_criterion = nn.BCEWithLogitsLoss(weight=None, reduce=False)\n",
    "multi_criterion = nn.MultiLabelSoftMarginLoss(weight=None, reduce=False)\n",
    "\n",
    "bce_criterion_class = nn.BCEWithLogitsLoss(weight=class_weight, reduce=False)\n",
    "multi_criterion_class = nn.MultiLabelSoftMarginLoss(weight=class_weight, reduce=False)\n",
    "\n",
    "bce_criterion_element = nn.BCEWithLogitsLoss(weight=element_weight, reduce=False)\n",
    "multi_criterion_element = nn.MultiLabelSoftMarginLoss(weight=element_weight, reduce=False)\n"
   ]
  },
  {
   "cell_type": "code",
   "execution_count": null,
   "metadata": {},
   "outputs": [],
   "source": [
    "\n",
    "bce_loss = bce_criterion(x, y)\n",
    "multi_loss = multi_criterion(x, y)\n",
    "\n",
    "bce_loss_class = bce_criterion_class(x, y)\n",
    "multi_loss_class = multi_criterion_class(x, y)\n",
    "\n",
    "bce_loss_element = bce_criterion_element(x, y)\n",
    "multi_loss_element = multi_criterion_element(x, y)\n",
    "\n",
    "print(bce_loss - multi_loss)\n",
    "print(bce_loss_class - multi_loss_class)\n",
    "print(bce_loss_element - multi_loss_element)"
   ]
  },
  {
   "attachments": {},
   "cell_type": "markdown",
   "metadata": {},
   "source": [
    "## Bot Stuff"
   ]
  },
  {
   "cell_type": "code",
   "execution_count": 10,
   "metadata": {},
   "outputs": [],
   "source": [
    "import torch.nn as nn\n",
    "import torch.nn.functional as F\n"
   ]
  },
  {
   "cell_type": "code",
   "execution_count": 45,
   "metadata": {},
   "outputs": [],
   "source": [
    "\n",
    "class WeightedCrossEntropyLoss(nn.Module):\n",
    "    def __init__(self, weight=None):\n",
    "        super(WeightedCrossEntropyLoss, self).__init__()\n",
    "        self.weight = weight\n",
    "\n",
    "    def forward(self, input, target):\n",
    "        n, c, h, w = input.size()\n",
    "        input = input.transpose(1,2).transpose(2,3).contiguous().view(-1, c)\n",
    "        target = target.view(-1)\n",
    "        weight = torch.tensor([1, self.weight]).to(target.device)\n",
    "\n",
    "        loss = F.cross_entropy(input, target, weight=weight, reduction='none')\n",
    "        loss = loss.view(n, h, w)\n",
    "        return torch.mean(loss)\n"
   ]
  },
  {
   "cell_type": "code",
   "execution_count": 47,
   "metadata": {},
   "outputs": [],
   "source": [
    "# # Define the random vectors and corresponding labels\n",
    "# input = torch.randn(1, 2, 3, 3)  # batch size = 1, number of classes = 2, height = 3, width = 3\n",
    "# target = torch.LongTensor([[[0, 1, 1], [1, 0, 1], [0, 0, 1]]])  # ground truth labels, 0 for background and 1 for foreground\n",
    "\n",
    "# # Define the weight for the second class\n",
    "# weight_class_1 = 1\n",
    "# weight_class_2 = 5\n",
    "# weight = torch.tensor([weight_class_1, weight_class_2])\n",
    "\n",
    "# # Define the loss function\n",
    "# criterion = WeightedCrossEntropyLoss(weight)\n",
    "\n",
    "# # Compute the loss\n",
    "# loss = criterion(input, target)\n",
    "# print(loss)\n"
   ]
  },
  {
   "attachments": {},
   "cell_type": "markdown",
   "metadata": {},
   "source": [
    "## Weighted CE"
   ]
  },
  {
   "cell_type": "code",
   "execution_count": 66,
   "metadata": {},
   "outputs": [],
   "source": [
    "ce_loss = nn.CrossEntropyLoss(weight=torch.tensor([1, 5]))"
   ]
  },
  {
   "cell_type": "code",
   "execution_count": null,
   "metadata": {},
   "outputs": [],
   "source": [
    "batch_size, num_classes, height, width = 1, 2, 3, 3\n",
    "\n",
    "pred = torch.randn(batch_size, num_classes, height, width, requires_grad=True) # size b, c, h, w\n",
    "target = torch.randn(batch_size, height, width, dtype=torch.long) # size b, c, h, w\n",
    "target.shape"
   ]
  },
  {
   "cell_type": "code",
   "execution_count": 93,
   "metadata": {},
   "outputs": [],
   "source": [
    "# target = target.view(batch_size, height, width).float()\n",
    "# target.shap\n",
    "# target = target.type(torch.LongTensor)\n",
    "# pred = pred.type(torch.FloatTensor)"
   ]
  },
  {
   "cell_type": "code",
   "execution_count": 94,
   "metadata": {},
   "outputs": [],
   "source": [
    "# # get argmax of targets\n",
    "# gt = target.argmax(dim=1) # size b, h, w\n",
    "# gt.shape, gt"
   ]
  },
  {
   "cell_type": "code",
   "execution_count": 95,
   "metadata": {},
   "outputs": [],
   "source": [
    "sigmoid = nn.Sigmoid()"
   ]
  },
  {
   "cell_type": "code",
   "execution_count": 304,
   "metadata": {},
   "outputs": [],
   "source": [
    "# ce_loss(pred, target)"
   ]
  },
  {
   "cell_type": "code",
   "execution_count": 306,
   "metadata": {},
   "outputs": [],
   "source": [
    "# Example of target with class indices\n",
    "loss = nn.CrossEntropyLoss()\n",
    "input = torch.randn(3, 5, requires_grad=True)\n",
    "target = torch.empty(3, dtype=torch.long).random_(5)\n",
    "output = loss(input, target)\n",
    "output.backward()\n",
    "# # Example of target with class probabilities\n",
    "# input = torch.randn(3, 5, requires_grad=True)\n",
    "# target = torch.randn(3, 5).softmax(dim=1)\n",
    "# output = loss(input, target)\n",
    "# output.backward()"
   ]
  },
  {
   "cell_type": "code",
   "execution_count": 112,
   "metadata": {},
   "outputs": [
    {
     "data": {
      "text/plain": [
       "(tensor([4, 4, 2]),\n",
       " tensor([[-0.4176,  0.5993, -0.0302,  0.6690,  1.3046],\n",
       "         [ 0.0381, -1.3491,  0.3433,  1.5649, -1.2164],\n",
       "         [-0.5288, -0.5574,  2.3132, -0.8621, -0.5924]], requires_grad=True))"
      ]
     },
     "execution_count": 112,
     "metadata": {},
     "output_type": "execute_result"
    }
   ],
   "source": [
    "# torch.empty(3, dtype=torch.long).random_(5)\n",
    "target, input"
   ]
  },
  {
   "cell_type": "code",
   "execution_count": 113,
   "metadata": {},
   "outputs": [],
   "source": [
    "# Example of target with class probabilities\n",
    "input = torch.randn(3, 5, requires_grad=True)\n",
    "target = torch.randn(3, 5).softmax(dim=1)\n",
    "output = loss(input, target)\n",
    "output.backward()"
   ]
  },
  {
   "cell_type": "code",
   "execution_count": 114,
   "metadata": {},
   "outputs": [
    {
     "data": {
      "text/plain": [
       "(torch.Size([3, 5]), torch.Size([3, 5]))"
      ]
     },
     "execution_count": 114,
     "metadata": {},
     "output_type": "execute_result"
    }
   ],
   "source": [
    "input.shape, target.shape"
   ]
  },
  {
   "cell_type": "code",
   "execution_count": 259,
   "metadata": {},
   "outputs": [
    {
     "data": {
      "text/plain": [
       "tensor(2.2332, grad_fn=<DivBackward1>)"
      ]
     },
     "execution_count": 259,
     "metadata": {},
     "output_type": "execute_result"
    }
   ],
   "source": [
    "loss(pred, target)"
   ]
  },
  {
   "cell_type": "code",
   "execution_count": 260,
   "metadata": {},
   "outputs": [],
   "source": [
    "w_loss = nn.CrossEntropyLoss(weight=torch.tensor([1, 5]))"
   ]
  },
  {
   "cell_type": "code",
   "execution_count": 264,
   "metadata": {},
   "outputs": [],
   "source": [
    "# import numpy as np\n",
    "\n",
    "# # Define the input matrices\n",
    "# y_true = np.array([[0., 0., 1.],\n",
    "#                    [1., 0., 0.],\n",
    "#                    [0., 0., 0.]])\n",
    "# y_pred = np.array([[0., 0., 0.],\n",
    "#                    [1., 0., 1.],\n",
    "#                    [1., 1., 0.]])\n",
    "\n",
    "# # Flatten the matrices to 1D arrays\n",
    "# y_true = np.ravel(y_true)\n",
    "# y_pred = np.ravel(y_pred)\n",
    "\n",
    "# # Compute the intersection and union of non-zero elements\n",
    "# intersection = np.intersect1d(np.where(y_true > 0), np.where(y_pred > 0))\n",
    "# union = np.union1d(np.where(y_true > 0), np.where(y_pred > 0))\n",
    "\n",
    "# # Compute the Jaccard score\n",
    "# jaccard = len(intersection) / len(union)\n",
    "\n",
    "# print(\"Jaccard score:\", jaccard)\n"
   ]
  },
  {
   "cell_type": "code",
   "execution_count": 265,
   "metadata": {},
   "outputs": [],
   "source": [
    "# y_pred.shape, y_true.shape"
   ]
  },
  {
   "cell_type": "code",
   "execution_count": 315,
   "metadata": {},
   "outputs": [
    {
     "data": {
      "text/plain": [
       "(torch.Size([2, 1, 3, 3]), torch.Size([2, 1, 3, 3]))"
      ]
     },
     "execution_count": 315,
     "metadata": {},
     "output_type": "execute_result"
    }
   ],
   "source": [
    "# pred = torch.tensor([[[1.5, -0.5], [0.5, -1.5]]], requires_grad=True)\n",
    "pred = torch.randn(2, 1, 3, 3, requires_grad=True)\n",
    "# target = torch.tensor([[[1.0, 0.0], [0.0, 1.0]]])\n",
    "target = torch.randint(0, 2, (2, 1, 3, 3)).float()\n",
    "target.shape, pred.shape"
   ]
  },
  {
   "cell_type": "code",
   "execution_count": 322,
   "metadata": {},
   "outputs": [
    {
     "data": {
      "text/plain": [
       "torch.Size([2, 3, 3])"
      ]
     },
     "execution_count": 322,
     "metadata": {},
     "output_type": "execute_result"
    }
   ],
   "source": [
    "pred_0 = pred.softmax(dim=1).round()[:, 0, :, :]\n",
    "pred_0.shape"
   ]
  },
  {
   "cell_type": "code",
   "execution_count": 323,
   "metadata": {},
   "outputs": [
    {
     "data": {
      "text/plain": [
       "(tensor([0.5000, 0.8696]),\n",
       " tensor([[0.3333, 0.3333],\n",
       "         [0.6667, 1.0000]]))"
      ]
     },
     "execution_count": 323,
     "metadata": {},
     "output_type": "execute_result"
    }
   ],
   "source": [
    "dice_score(pred_0, target[:, 0, :, :]), jaccard_score(pred_0, target[:, 0, :, :])"
   ]
  },
  {
   "cell_type": "code",
   "execution_count": 16,
   "metadata": {},
   "outputs": [
    {
     "data": {
      "text/html": [
       "<pre style=\"white-space:pre;overflow-x:auto;line-height:normal;font-family:Menlo,'DejaVu Sans Mono',consolas,'Courier New',monospace\"><span style=\"color: #800000; text-decoration-color: #800000\">╭──────────────────────────── </span><span style=\"color: #800000; text-decoration-color: #800000; font-weight: bold\">Traceback </span><span style=\"color: #bf7f7f; text-decoration-color: #bf7f7f; font-weight: bold\">(most recent call last)</span><span style=\"color: #800000; text-decoration-color: #800000\"> ────────────────────────────╮</span>\n",
       "<span style=\"color: #800000; text-decoration-color: #800000\">│</span>                                                                                           <span style=\"color: #800000; text-decoration-color: #800000\">│</span>\n",
       "<span style=\"color: #800000; text-decoration-color: #800000\">│</span> <span style=\"color: #bfbf7f; text-decoration-color: #bfbf7f\">/tmp/ipykernel_2681824/</span><span style=\"color: #808000; text-decoration-color: #808000; font-weight: bold\">1272020734.py</span>:<span style=\"color: #0000ff; text-decoration-color: #0000ff\">3</span> in <span style=\"color: #00ff00; text-decoration-color: #00ff00\">&lt;cell line: 3&gt;</span>                                  <span style=\"color: #800000; text-decoration-color: #800000\">│</span>\n",
       "<span style=\"color: #800000; text-decoration-color: #800000\">│</span>                                                                                           <span style=\"color: #800000; text-decoration-color: #800000\">│</span>\n",
       "<span style=\"color: #800000; text-decoration-color: #800000\">│</span> <span style=\"color: #800000; text-decoration-color: #800000; font-style: italic\">[Errno 2] No such file or directory: '/tmp/ipykernel_2681824/1272020734.py'</span>               <span style=\"color: #800000; text-decoration-color: #800000\">│</span>\n",
       "<span style=\"color: #800000; text-decoration-color: #800000\">╰───────────────────────────────────────────────────────────────────────────────────────────╯</span>\n",
       "<span style=\"color: #ff0000; text-decoration-color: #ff0000; font-weight: bold\">NameError: </span>name <span style=\"color: #008000; text-decoration-color: #008000\">'pred'</span> is not defined\n",
       "</pre>\n"
      ],
      "text/plain": [
       "\u001b[31m╭─\u001b[0m\u001b[31m─────────────────────────── \u001b[0m\u001b[1;31mTraceback \u001b[0m\u001b[1;2;31m(most recent call last)\u001b[0m\u001b[31m ───────────────────────────\u001b[0m\u001b[31m─╮\u001b[0m\n",
       "\u001b[31m│\u001b[0m                                                                                           \u001b[31m│\u001b[0m\n",
       "\u001b[31m│\u001b[0m \u001b[2;33m/tmp/ipykernel_2681824/\u001b[0m\u001b[1;33m1272020734.py\u001b[0m:\u001b[94m3\u001b[0m in \u001b[92m<cell line: 3>\u001b[0m                                  \u001b[31m│\u001b[0m\n",
       "\u001b[31m│\u001b[0m                                                                                           \u001b[31m│\u001b[0m\n",
       "\u001b[31m│\u001b[0m \u001b[3;31m[Errno 2] No such file or directory: '/tmp/ipykernel_2681824/1272020734.py'\u001b[0m               \u001b[31m│\u001b[0m\n",
       "\u001b[31m╰───────────────────────────────────────────────────────────────────────────────────────────╯\u001b[0m\n",
       "\u001b[1;91mNameError: \u001b[0mname \u001b[32m'pred'\u001b[0m is not defined\n"
      ]
     },
     "metadata": {},
     "output_type": "display_data"
    }
   ],
   "source": [
    "dice_score = monai.metrics.GeneralizedDiceScore(include_background=False)\n",
    "jaccard_score = monai.metrics.MeanIoU(include_background=False)\n",
    "print(sum(dice_score(pred.softmax(dim=1).round(), target))/pred.shape[0], sum(jaccard_score(pred.softmax(dim=1).round(), target))/pred.shape[0] )\n",
    "print(dice_score(pred.softmax(dim=1).round(), target), jaccard_score(pred.softmax(dim=1).round(), target))"
   ]
  },
  {
   "cell_type": "code",
   "execution_count": 302,
   "metadata": {},
   "outputs": [
    {
     "data": {
      "text/plain": [
       "<matplotlib.image.AxesImage at 0x7f5b4c5b43a0>"
      ]
     },
     "execution_count": 302,
     "metadata": {},
     "output_type": "execute_result"
    },
    {
     "data": {
      "image/png": "[encoded data removed]",
      "text/plain": [
       "<Figure size 432x288 with 2 Axes>"
      ]
     },
     "metadata": {
      "needs_background": "light"
     },
     "output_type": "display_data"
    }
   ],
   "source": [
    "plt.subplot(1, 2, 1)\n",
    "plt.imshow(pred.softmax(dim=1).round()[0, 0, :,:].detach().numpy())\n",
    "plt.subplot(1, 2, 2)\n",
    "plt.imshow(target[0, 0, :,:].detach().numpy())"
   ]
  },
  {
   "cell_type": "code",
   "execution_count": 303,
   "metadata": {},
   "outputs": [
    {
     "data": {
      "image/png": "[encoded data removed]",
      "text/plain": [
       "<Figure size 432x288 with 2 Axes>"
      ]
     },
     "metadata": {
      "needs_background": "light"
     },
     "output_type": "display_data"
    }
   ],
   "source": [
    "plt.subplot(1, 2, 1)\n",
    "plt.imshow(pred.softmax(dim=1).round()[1, 0, :,:].detach().numpy())\n",
    "plt.subplot(1, 2, 2)\n",
    "plt.imshow(target[1,0,:,:].detach().numpy())\n",
    "plt.show()"
   ]
  },
  {
   "cell_type": "code",
   "execution_count": 184,
   "metadata": {},
   "outputs": [
    {
     "data": {
      "text/plain": [
       "(tensor([[[ 1.5000, -0.5000],\n",
       "          [ 0.5000, -1.5000]]], requires_grad=True),\n",
       " tensor([[[1., 0.],\n",
       "          [0., 1.]]]))"
      ]
     },
     "execution_count": 184,
     "metadata": {},
     "output_type": "execute_result"
    }
   ],
   "source": [
    "pred, target"
   ]
  },
  {
   "cell_type": "code",
   "execution_count": null,
   "metadata": {},
   "outputs": [],
   "source": []
  },
  {
   "cell_type": "code",
   "execution_count": 4,
   "metadata": {},
   "outputs": [],
   "source": [
    "import torch\n",
    "import monai\n",
    "\n",
    "# Create a batch of dummy data\n",
    "batch_size = 4\n",
    "num_classes = 2\n",
    "height = 128\n",
    "width = 128\n",
    "num_channels = 2\n",
    "y_true = torch.randint(low=0, high=num_classes, size=(batch_size, num_channels, height, width))\n",
    "y_pred = torch.randint(low=0, high=num_classes, size=(batch_size, num_channels, height, width))"
   ]
  },
  {
   "cell_type": "code",
   "execution_count": 391,
   "metadata": {},
   "outputs": [],
   "source": [
    "criterion = monai.losses.FocalLoss()"
   ]
  },
  {
   "cell_type": "code",
   "execution_count": 397,
   "metadata": {},
   "outputs": [
    {
     "data": {
      "text/plain": [
       "(torch.Size([4, 128, 128]), torch.Size([32868, 3]))"
      ]
     },
     "execution_count": 397,
     "metadata": {},
     "output_type": "execute_result"
    }
   ],
   "source": [
    "# y_pred_1 = \n",
    "# np.where equivalent in pytorch\n",
    "# y_pred_1 = torch.where(y_pred ==1, y_pred, 0)\n",
    "b = y_true[:,0,:,:] == 1\n",
    "b.shape,  b.nonzero().shape"
   ]
  },
  {
   "cell_type": "code",
   "execution_count": 3,
   "metadata": {},
   "outputs": [],
   "source": [
    "y1 = torch.tensor([[[1, 0, 0], [0, 1, 0], [0, 0, 1]], [[1, 0, 0], [0, 1, 0], [0, 0, 1]]])\n",
    "y2 = torch.tensor([[[0, 0, 1], [0, 1, 0], [1, 0, 0]], [[1, 0, 0], [0, 1, 0], [0, 0, 1]]])\n",
    "# y2[y1.nonzero()]"
   ]
  },
  {
   "cell_type": "code",
   "execution_count": 5,
   "metadata": {},
   "outputs": [
    {
     "name": "stdout",
     "output_type": "stream",
     "text": [
      "tensor([1, 1, 1, 1, 1, 1])\n",
      "tensor([0, 1, 0, 1, 1, 1])\n"
     ]
    }
   ],
   "source": [
    "# x = y1 == 1\n",
    "# y2.nonzero().shape , type(y2.nonzero()), y2.nonzero()\n",
    "# y2[y1.nonzero()]\n",
    "\n",
    "# create a boolean tensor indicating where y1 and y2 are equal\n",
    "mask = y1 == 1\n",
    "\n",
    "# use boolean indexing to select elements from y2 where mask is True\n",
    "result = y2[mask]\n",
    "print(y1[mask])\n",
    "print(result)\n"
   ]
  },
  {
   "cell_type": "code",
   "execution_count": 6,
   "metadata": {},
   "outputs": [
    {
     "data": {
      "text/plain": [
       "torch.Size([3, 2])"
      ]
     },
     "execution_count": 6,
     "metadata": {},
     "output_type": "execute_result"
    }
   ],
   "source": [
    "torch.tensor([[0,1], [1,1],[1,1]]).shape"
   ]
  },
  {
   "cell_type": "code",
   "execution_count": 7,
   "metadata": {},
   "outputs": [
    {
     "data": {
      "text/plain": [
       "[tensor([0, 1]), tensor([1, 1]), tensor([1, 1])]"
      ]
     },
     "execution_count": 7,
     "metadata": {},
     "output_type": "execute_result"
    }
   ],
   "source": [
    "list(torch.tensor([[0,1], [1,1],[1,1]]))"
   ]
  },
  {
   "cell_type": "code",
   "execution_count": 8,
   "metadata": {},
   "outputs": [
    {
     "data": {
      "text/plain": [
       "tensor([1, 1])"
      ]
     },
     "execution_count": 8,
     "metadata": {},
     "output_type": "execute_result"
    }
   ],
   "source": [
    "# print(y2)\n",
    "y2[list(torch.tensor([[0,1], [1,1],[1,1]]))]"
   ]
  },
  {
   "cell_type": "code",
   "execution_count": 9,
   "metadata": {},
   "outputs": [
    {
     "name": "stdout",
     "output_type": "stream",
     "text": [
      "tensor([2, 6])\n"
     ]
    }
   ],
   "source": [
    "import torch\n",
    "\n",
    "# create a 2D tensor\n",
    "x = torch.tensor([[1, 2, 3], [4, 5, 6], [7, 8, 9]])\n",
    "\n",
    "# create a list of indices\n",
    "indices = [[0, 1], [1, 2]]\n",
    "\n",
    "# use indexing to retrieve values at the specified indices\n",
    "values = x[indices]\n",
    "\n",
    "print(values)\n"
   ]
  },
  {
   "cell_type": "code",
   "execution_count": 10,
   "metadata": {},
   "outputs": [
    {
     "data": {
      "text/plain": [
       "tensor([[1, 2, 3],\n",
       "        [4, 5, 6]])"
      ]
     },
     "execution_count": 10,
     "metadata": {},
     "output_type": "execute_result"
    }
   ],
   "source": [
    "x[[0,1]]"
   ]
  },
  {
   "cell_type": "code",
   "execution_count": 11,
   "metadata": {},
   "outputs": [
    {
     "data": {
      "text/plain": [
       "(torch.Size([4, 2, 128, 128]), torch.Size([65708, 4]))"
      ]
     },
     "execution_count": 11,
     "metadata": {},
     "output_type": "execute_result"
    }
   ],
   "source": [
    "# get indexes of y_true where y_true == 1\n",
    "y_true_1 = torch.where(y_true == 1, y_true, 0)\n",
    "y_true_1.shape, y_true_1.nonzero().shape"
   ]
  },
  {
   "cell_type": "code",
   "execution_count": 21,
   "metadata": {},
   "outputs": [
    {
     "data": {
      "text/plain": [
       "(torch.Size([4, 2, 128, 128]), torch.Size([4, 2, 128, 128]))"
      ]
     },
     "execution_count": 21,
     "metadata": {},
     "output_type": "execute_result"
    }
   ],
   "source": [
    "y_pred.shape, y_true.shape\n",
    "# y_pred.max(), y_pred.min(), y_true.max(), y_true.min()\n",
    "# y_pred.unique()"
   ]
  },
  {
   "cell_type": "code",
   "execution_count": 17,
   "metadata": {},
   "outputs": [
    {
     "name": "stdout",
     "output_type": "stream",
     "text": [
      "Mean IoU: tensor(0.3359)\n",
      "Mean Dice: tensor(0.5029)\n"
     ]
    }
   ],
   "source": [
    "\n",
    "# Compute the mIoU for the entire batch\n",
    "miou = monai.metrics.compute_iou(y_pred, y_true, include_background=False)\n",
    "dice = monai.metrics.compute_meandice(y_pred, y_true, include_background=False)\n",
    "\n",
    "# Compute the mean across all elements of the miou tensor\n",
    "mean_miou = miou.mean()\n",
    "mean_dice = dice.mean()\n",
    "\n",
    "print(\"Mean IoU:\", mean_miou)\n",
    "print(\"Mean Dice:\", mean_dice)\n",
    "\n"
   ]
  },
  {
   "cell_type": "code",
   "execution_count": 384,
   "metadata": {},
   "outputs": [
    {
     "data": {
      "text/plain": [
       "torch.Size([4, 1, 128, 128])"
      ]
     },
     "execution_count": 384,
     "metadata": {},
     "output_type": "execute_result"
    }
   ],
   "source": [
    "y_true[:,0,:,:].reshape(y_true.shape[0], 1, y_pred.shape[2], y_pred.shape[3]).shape"
   ]
  },
  {
   "cell_type": "code",
   "execution_count": 390,
   "metadata": {},
   "outputs": [
    {
     "data": {
      "text/plain": [
       "tensor(0.3336)"
      ]
     },
     "execution_count": 390,
     "metadata": {},
     "output_type": "execute_result"
    }
   ],
   "source": [
    "miou = monai.metrics.compute_iou(\n",
    "    y_pred[:,0,:,:].reshape(y_true.shape[0], 1, y_pred.shape[2], y_pred.shape[3]),\n",
    "    y_true[:,0,:,:].reshape(y_true.shape[0], 1, y_pred.shape[2], y_pred.shape[3]), \n",
    "    include_background=False)\n",
    "miou.mean()"
   ]
  },
  {
   "cell_type": "code",
   "execution_count": 373,
   "metadata": {},
   "outputs": [
    {
     "data": {
      "text/plain": [
       "(torch.Size([4, 1]),)"
      ]
     },
     "execution_count": 373,
     "metadata": {},
     "output_type": "execute_result"
    }
   ],
   "source": [
    "# miou.shape, y_pred.shape, y_true.shape, y_pred.unique(), y_true.unique()\n",
    "dice.shape\n"
   ]
  },
  {
   "cell_type": "code",
   "execution_count": 338,
   "metadata": {},
   "outputs": [
    {
     "data": {
      "text/plain": [
       "<matplotlib.image.AxesImage at 0x7f5b4bf80460>"
      ]
     },
     "execution_count": 338,
     "metadata": {},
     "output_type": "execute_result"
    },
    {
     "data": {
      "image/png": "[encoded data removed]",
      "text/plain": [
       "<Figure size 432x288 with 2 Axes>"
      ]
     },
     "metadata": {
      "needs_background": "light"
     },
     "output_type": "display_data"
    }
   ],
   "source": [
    "plt.subplot(1, 2, 1)\n",
    "plt.imshow(y_pred[0,:,:].detach().numpy())\n",
    "plt.subplot(1, 2, 2)\n",
    "plt.imshow(y_true[0,:,:].detach().numpy())"
   ]
  },
  {
   "cell_type": "code",
   "execution_count": 336,
   "metadata": {},
   "outputs": [
    {
     "data": {
      "text/plain": [
       "<matplotlib.image.AxesImage at 0x7f5b4c1cf040>"
      ]
     },
     "execution_count": 336,
     "metadata": {},
     "output_type": "execute_result"
    },
    {
     "data": {
      "image/png": "[encoded data removed]",
      "text/plain": [
       "<Figure size 432x288 with 2 Axes>"
      ]
     },
     "metadata": {
      "needs_background": "light"
     },
     "output_type": "display_data"
    }
   ],
   "source": [
    "plt.subplot(1, 2, 1)\n",
    "plt.imshow(y_pred[1,:,:].detach().numpy())\n",
    "plt.subplot(1, 2, 2)\n",
    "plt.imshow(y_true[1,:,:].detach().numpy())"
   ]
  },
  {
   "cell_type": "code",
   "execution_count": 330,
   "metadata": {},
   "outputs": [
    {
     "data": {
      "text/plain": [
       "(torch.Size([2, 2, 2]), torch.Size([2, 2, 2]))"
      ]
     },
     "execution_count": 330,
     "metadata": {},
     "output_type": "execute_result"
    }
   ],
   "source": [
    "y_true.shape, y_pred.shape"
   ]
  },
  {
   "cell_type": "code",
   "execution_count": 61,
   "metadata": {},
   "outputs": [],
   "source": [
    "def criterion(y_pred, y_true):\n",
    "    if len(y_pred.shape) == 3: # for single class\n",
    "        return monai.metrics.compute_dice(y_pred.reshape(y_pred.shape[0], 1, 128, 128), \n",
    "                                    y_true.reshape(y_true.shape[0], 1, 128, 128), \n",
    "                                    include_background=False, ignore_empty=False).mean().item()\n",
    "    # for multi class\n",
    "    return monai.metrics.compute_dice(y_pred, y_true, include_background=False, ignore_empty=False).mean().item()\n"
   ]
  },
  {
   "cell_type": "code",
   "execution_count": 62,
   "metadata": {},
   "outputs": [
    {
     "data": {
      "text/plain": [
       "(torch.Size([4, 2, 128, 128]), torch.Size([4, 2, 128, 128]), 0.502871036529541)"
      ]
     },
     "execution_count": 62,
     "metadata": {},
     "output_type": "execute_result"
    }
   ],
   "source": [
    "y_pred.shape , y_true.shape, criterion(y_pred, y_true)"
   ]
  },
  {
   "cell_type": "code",
   "execution_count": 63,
   "metadata": {},
   "outputs": [
    {
     "data": {
      "text/plain": [
       "4"
      ]
     },
     "execution_count": 63,
     "metadata": {},
     "output_type": "execute_result"
    }
   ],
   "source": [
    "len((y_pred.shape))"
   ]
  },
  {
   "cell_type": "code",
   "execution_count": 64,
   "metadata": {},
   "outputs": [
    {
     "data": {
      "text/plain": [
       "(torch.Size([4, 128, 128]), torch.Size([4, 128, 128]), 0.5004803538322449)"
      ]
     },
     "execution_count": 64,
     "metadata": {},
     "output_type": "execute_result"
    }
   ],
   "source": [
    "y_pred[:,0,:,:].shape, y_true[:,0,:,:].shape, criterion(y_pred[:,0,:,:], y_true[:,0,:,:])"
   ]
  },
  {
   "cell_type": "code",
   "execution_count": 48,
   "metadata": {},
   "outputs": [
    {
     "data": {
      "text/plain": [
       "256.0"
      ]
     },
     "execution_count": 48,
     "metadata": {},
     "output_type": "execute_result"
    }
   ],
   "source": [
    "65536/256"
   ]
  }
 ],
 "metadata": {
  "kernelspec": {
   "display_name": "main",
   "language": "python",
   "name": "python3"
  },
  "language_info": {
   "codemirror_mode": {
    "name": "ipython",
    "version": 3
   },
   "file_extension": ".py",
   "mimetype": "text/x-python",
   "name": "python",
   "nbconvert_exporter": "python",
   "pygments_lexer": "ipython3",
   "version": "3.10.8"
  },
  "orig_nbformat": 4
 },
 "nbformat": 4,
 "nbformat_minor": 2
}
